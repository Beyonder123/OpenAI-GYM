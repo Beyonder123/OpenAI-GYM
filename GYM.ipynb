{
  "nbformat": 4,
  "nbformat_minor": 0,
  "metadata": {
    "colab": {
      "provenance": [],
      "authorship_tag": "ABX9TyMVkU6WyXKD5QpFjDMnreai",
      "include_colab_link": true
    },
    "kernelspec": {
      "name": "python3",
      "display_name": "Python 3"
    },
    "language_info": {
      "name": "python"
    }
  },
  "cells": [
    {
      "cell_type": "markdown",
      "metadata": {
        "id": "view-in-github",
        "colab_type": "text"
      },
      "source": [
        "<a href=\"https://colab.research.google.com/github/Beyonder123/OpenAI-GYM/blob/main/GYM.ipynb\" target=\"_parent\"><img src=\"https://colab.research.google.com/assets/colab-badge.svg\" alt=\"Open In Colab\"/></a>"
      ]
    },
    {
      "cell_type": "code",
      "execution_count": null,
      "metadata": {
        "id": "jiaZZZrOu-N4"
      },
      "outputs": [],
      "source": [
        "!pip install -U gym"
      ]
    },
    {
      "cell_type": "code",
      "source": [],
      "metadata": {
        "id": "nDJ8A7LDvjPK"
      },
      "execution_count": null,
      "outputs": []
    }
  ]
}